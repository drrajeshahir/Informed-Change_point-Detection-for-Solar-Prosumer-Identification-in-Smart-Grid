{
 "cells": [
  {
   "cell_type": "code",
   "execution_count": 18,
   "metadata": {},
   "outputs": [],
   "source": [
    "import pandas as pd\n",
    "import numpy as np\n",
    "from scipy import stats\n",
    "import numpy as np\n",
    "import matplotlib.pyplot as plt\n",
    "import pandas as pd\n",
    "%matplotlib inline\n",
    "from datetime import timedelta"
   ]
  },
  {
   "cell_type": "code",
   "execution_count": 177,
   "metadata": {},
   "outputs": [],
   "source": [
    "censoreddf = pd.read_excel(\"Censored meters details_1605.xlsx\")"
   ]
  },
  {
   "cell_type": "code",
   "execution_count": 178,
   "metadata": {},
   "outputs": [],
   "source": [
    "censoreddf['Starts from'] = pd.to_datetime(censoreddf['Starts from'], format='%Y-%m-%d')"
   ]
  },
  {
   "cell_type": "code",
   "execution_count": 179,
   "metadata": {},
   "outputs": [],
   "source": [
    "censoreddf.set_index('Starts from', inplace=True)"
   ]
  },
  {
   "cell_type": "code",
   "execution_count": 132,
   "metadata": {},
   "outputs": [],
   "source": [
    "datemid = censoreddf[(censoreddf['MeterID'] == 'KOL-22813398')]"
   ]
  },
  {
   "cell_type": "code",
   "execution_count": 133,
   "metadata": {},
   "outputs": [],
   "source": [
    "datemid.index = pd.to_datetime(datemid.index)"
   ]
  },
  {
   "cell_type": "code",
   "execution_count": 149,
   "metadata": {},
   "outputs": [
    {
     "data": {
      "text/plain": [
       "Timestamp('2020-02-01 00:00:00')"
      ]
     },
     "execution_count": 149,
     "metadata": {},
     "output_type": "execute_result"
    }
   ],
   "source": [
    "pd.to_datetime(dt1, format='%Y-%m-%d')[0]"
   ]
  },
  {
   "cell_type": "code",
   "execution_count": 169,
   "metadata": {},
   "outputs": [],
   "source": [
    "KS_stats_df = pd.DataFrame(columns = ['MeterID', 'CP-date','KS-stats','Critical-KS','KS_stats > Critical_KS', 'P-value','alpha','P-value<=aplha','Outcome'])"
   ]
  },
  {
   "cell_type": "code",
   "execution_count": 180,
   "metadata": {},
   "outputs": [],
   "source": [
    "for mid in censoreddf['MeterID']:\n",
    "    tdf=pd.read_csv(\"Data_processed/\"+mid+\".csv\")\n",
    "    tdf['dates'] = tdf['dates'].str[:10]\n",
    "    tdf['dates'] = pd.to_datetime(tdf['dates'], format='%Y-%m-%d')\n",
    "    tdf.set_index('dates', inplace=True)\n",
    "    num = tdf._get_numeric_data()\n",
    "    num[num < 0] = 0\n",
    "    datemid = censoreddf[censoreddf['MeterID'] == mid]\n",
    "    dt1 = datemid.index\n",
    "    dt2 = dt1 - timedelta(days = 1)\n",
    "    dt1 = pd.to_datetime(dt1, format='%Y-%m-%d')[0]\n",
    "    dt2 = pd.to_datetime(dt2, format='%Y-%m-%d')[0]\n",
    "    d1 = tdf.loc[tdf.index==dt2].iloc[:, 20:74].to_numpy()\n",
    "    flag = not np.any(d1)\n",
    "    if flag:\n",
    "        dt2 = dt1 - timedelta(days = 2)\n",
    "        d1 = tdf.loc[tdf.index==dt2].iloc[:, 20:74].to_numpy()\n",
    "    d2 = tdf.loc[tdf.index==dt1].iloc[:, 20:74].to_numpy()\n",
    "    KS_stats = stats.ks_2samp(d1[0], d2[0])\n",
    "    KS_stats1=KS_stats[0]\n",
    "    KS_stats2=KS_stats[1]\n",
    "    if KS_stats1 > 0.2612:\n",
    "        KS_critical = 'Yes'\n",
    "    else:\n",
    "        KS_critical = 'No'\n",
    "    if KS_stats2 < 0.05:\n",
    "        KS_pval = 'Yes'\n",
    "    else:\n",
    "        KS_pval = 'No'\n",
    "    if ((KS_critical == 'Yes') and (KS_pval == 'Yes')):\n",
    "        outcome = 'Not similar'\n",
    "    else:\n",
    "        outcome = 'Similar'\n",
    "    KS_stats_df = KS_stats_df.append({'MeterID': mid, 'CP-date': dt1,'KS-stats': KS_stats1,'Critical-KS': '0.2612','KS_stats > Critical_KS': KS_critical, 'P-value': KS_stats2,\n",
    "                                'alpha': '0.05','P-value<=aplha': KS_pval,'Outcome': outcome}, ignore_index = True)\n",
    "    #print(mid, dt2, d1)"
   ]
  },
  {
   "cell_type": "code",
   "execution_count": 182,
   "metadata": {},
   "outputs": [],
   "source": [
    "KS_stats_df.to_excel(\"KS-statistics_results.xlsx\", index=False)"
   ]
  },
  {
   "cell_type": "code",
   "execution_count": 119,
   "metadata": {},
   "outputs": [],
   "source": [
    "def cdf(sample, x, sort = False):\n",
    "    # Sorts the sample, if unsorted\n",
    "    if sort:\n",
    "        sample.sort()\n",
    "    # Counts how many observations are below x\n",
    "    cdf = sum(sample <= x)\n",
    "    # Divides by the total number of observations\n",
    "    cdf = cdf / len(sample)\n",
    "    return cdf"
   ]
  },
  {
   "cell_type": "code",
   "execution_count": 120,
   "metadata": {},
   "outputs": [],
   "source": [
    "def ks_2samp(sample1, sample2):\n",
    "    # Gets all observations\n",
    "    observations = np.concatenate((sample1, sample2))\n",
    "    observations.sort()\n",
    "    # Sorts the samples\n",
    "    sample1.sort()\n",
    "    sample2.sort()\n",
    "    # Evaluates the KS statistic\n",
    "    D_ks = [] # KS Statistic list\n",
    "    for x in observations:\n",
    "        cdf_sample1 = cdf(sample = sample1, x  = x)\n",
    "        cdf_sample2 = cdf(sample = sample2, x  = x)\n",
    "        D_ks.append(abs(cdf_sample1 - cdf_sample2))\n",
    "    ks_stat = max(D_ks)\n",
    "    # Calculates the P-Value based on the two-sided test\n",
    "    # The P-Value comes from the KS Distribution Survival Function (SF = 1-CDF)\n",
    "    m, n = float(len(sample1)), float(len(sample2))\n",
    "    en = m * n / (m + n)\n",
    "    p_value = stats.kstwo.sf(ks_stat, np.round(en))\n",
    "    return {\"ks_stat\": ks_stat, \"p_value\" : p_value}"
   ]
  },
  {
   "cell_type": "code",
   "execution_count": 121,
   "metadata": {},
   "outputs": [
    {
     "data": {
      "text/plain": [
       "{'ks_stat': 0.6851851851851852, 'p_value': 3.952845765633981e-13}"
      ]
     },
     "execution_count": 121,
     "metadata": {},
     "output_type": "execute_result"
    }
   ],
   "source": [
    "# Performs the KS normality test for two time-series\n",
    "ks_2samp(d1, d2)"
   ]
  },
  {
   "cell_type": "code",
   "execution_count": null,
   "metadata": {},
   "outputs": [],
   "source": []
  }
 ],
 "metadata": {
  "kernelspec": {
   "display_name": "Python 3",
   "language": "python",
   "name": "python3"
  },
  "language_info": {
   "codemirror_mode": {
    "name": "ipython",
    "version": 3
   },
   "file_extension": ".py",
   "mimetype": "text/x-python",
   "name": "python",
   "nbconvert_exporter": "python",
   "pygments_lexer": "ipython3",
   "version": "3.7.2"
  }
 },
 "nbformat": 4,
 "nbformat_minor": 2
}
