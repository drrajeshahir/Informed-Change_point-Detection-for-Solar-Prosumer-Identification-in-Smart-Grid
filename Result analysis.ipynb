{
 "cells": [
  {
   "cell_type": "code",
   "execution_count": 206,
   "metadata": {},
   "outputs": [],
   "source": [
    "import pandas as pd\n",
    "#from scipy import stats\n",
    "import numpy as np\n",
    "#import matplotlib.pyplot as plt\n",
    "import pandas as pd\n",
    "#%matplotlib inline\n",
    "from datetime import timedelta"
   ]
  },
  {
   "cell_type": "code",
   "execution_count": 207,
   "metadata": {},
   "outputs": [],
   "source": [
    "censoreddf = pd.read_excel(\"Censored meters details.xlsx\")"
   ]
  },
  {
   "cell_type": "code",
   "execution_count": 208,
   "metadata": {},
   "outputs": [],
   "source": [
    "censoreddf['Starts from'] = pd.to_datetime(censoreddf['Starts from'], format='%Y-%m-%d')"
   ]
  },
  {
   "cell_type": "code",
   "execution_count": 209,
   "metadata": {},
   "outputs": [],
   "source": [
    "censoreddf.set_index('Starts from', inplace=True)"
   ]
  },
  {
   "cell_type": "code",
   "execution_count": 210,
   "metadata": {},
   "outputs": [],
   "source": [
    "gscoredf = pd.read_csv(\"Results/K=9_CP_Scores-2901.csv\")"
   ]
  },
  {
   "cell_type": "code",
   "execution_count": 211,
   "metadata": {},
   "outputs": [
    {
     "data": {
      "text/html": [
       "<div>\n",
       "<style scoped>\n",
       "    .dataframe tbody tr th:only-of-type {\n",
       "        vertical-align: middle;\n",
       "    }\n",
       "\n",
       "    .dataframe tbody tr th {\n",
       "        vertical-align: top;\n",
       "    }\n",
       "\n",
       "    .dataframe thead th {\n",
       "        text-align: right;\n",
       "    }\n",
       "</style>\n",
       "<table border=\"1\" class=\"dataframe\">\n",
       "  <thead>\n",
       "    <tr style=\"text-align: right;\">\n",
       "      <th></th>\n",
       "      <th>Main date</th>\n",
       "      <th>Distance</th>\n",
       "      <th>Gaussian Score</th>\n",
       "      <th>MeterID</th>\n",
       "    </tr>\n",
       "  </thead>\n",
       "  <tbody>\n",
       "    <tr>\n",
       "      <th>0</th>\n",
       "      <td>2019-12-01</td>\n",
       "      <td>0.000000</td>\n",
       "      <td>0.000000</td>\n",
       "      <td>KOL-22812974</td>\n",
       "    </tr>\n",
       "    <tr>\n",
       "      <th>1</th>\n",
       "      <td>2019-12-02</td>\n",
       "      <td>1.905000</td>\n",
       "      <td>0.103570</td>\n",
       "      <td>KOL-22812974</td>\n",
       "    </tr>\n",
       "    <tr>\n",
       "      <th>2</th>\n",
       "      <td>2019-12-03</td>\n",
       "      <td>1.535250</td>\n",
       "      <td>0.000000</td>\n",
       "      <td>KOL-22812974</td>\n",
       "    </tr>\n",
       "    <tr>\n",
       "      <th>3</th>\n",
       "      <td>2019-12-04</td>\n",
       "      <td>1.752167</td>\n",
       "      <td>0.027129</td>\n",
       "      <td>KOL-22812974</td>\n",
       "    </tr>\n",
       "    <tr>\n",
       "      <th>4</th>\n",
       "      <td>2019-12-05</td>\n",
       "      <td>1.316875</td>\n",
       "      <td>0.000000</td>\n",
       "      <td>KOL-22812974</td>\n",
       "    </tr>\n",
       "  </tbody>\n",
       "</table>\n",
       "</div>"
      ],
      "text/plain": [
       "    Main date  Distance  Gaussian Score       MeterID\n",
       "0  2019-12-01  0.000000        0.000000  KOL-22812974\n",
       "1  2019-12-02  1.905000        0.103570  KOL-22812974\n",
       "2  2019-12-03  1.535250        0.000000  KOL-22812974\n",
       "3  2019-12-04  1.752167        0.027129  KOL-22812974\n",
       "4  2019-12-05  1.316875        0.000000  KOL-22812974"
      ]
     },
     "execution_count": 211,
     "metadata": {},
     "output_type": "execute_result"
    }
   ],
   "source": [
    "gscoredf.head()"
   ]
  },
  {
   "cell_type": "code",
   "execution_count": 212,
   "metadata": {},
   "outputs": [],
   "source": [
    "#df_result_analysis = pd.DataFrame(columns = ['MeterID', 'Installation date','Before Inst date','After Inst date'])"
   ]
  },
  {
   "cell_type": "code",
   "execution_count": 213,
   "metadata": {},
   "outputs": [],
   "source": [
    "#censoreddf = censoreddf[:200]"
   ]
  },
  {
   "cell_type": "code",
   "execution_count": 221,
   "metadata": {},
   "outputs": [
    {
     "name": "stderr",
     "output_type": "stream",
     "text": [
      "C:\\ProgramData\\Anaconda3\\lib\\site-packages\\ipykernel_launcher.py:4: SettingWithCopyWarning: \n",
      "A value is trying to be set on a copy of a slice from a DataFrame.\n",
      "Try using .loc[row_indexer,col_indexer] = value instead\n",
      "\n",
      "See the caveats in the documentation: https://pandas.pydata.org/pandas-docs/stable/user_guide/indexing.html#returning-a-view-versus-a-copy\n",
      "  after removing the cwd from sys.path.\n",
      "C:\\ProgramData\\Anaconda3\\lib\\site-packages\\ipykernel_launcher.py:5: SettingWithCopyWarning: \n",
      "A value is trying to be set on a copy of a slice from a DataFrame.\n",
      "Try using .loc[row_indexer,col_indexer] = value instead\n",
      "\n",
      "See the caveats in the documentation: https://pandas.pydata.org/pandas-docs/stable/user_guide/indexing.html#returning-a-view-versus-a-copy\n",
      "  \"\"\"\n"
     ]
    }
   ],
   "source": [
    "df_result_analysis = pd.DataFrame(columns = ['MeterID', 'Installation date','Before Inst date','After Inst date'])\n",
    "for mid in censoreddf['MeterID']:\n",
    "    tdf=gscoredf[gscoredf['MeterID']==mid]\n",
    "    tdf['Main date'] = tdf['Main date'].str[:10]\n",
    "    tdf['Main date'] = pd.to_datetime(tdf['Main date'], format='%Y-%m-%d')\n",
    "    tdf.set_index('Main date', inplace=True)\n",
    "    datemid = censoreddf[censoreddf['MeterID'] == mid]\n",
    "    dt1 = datemid.index\n",
    "    #dt2 = dt1 - timedelta(days = 1)\n",
    "    dt1 = pd.to_datetime(dt1, format='%Y-%m-%d')[0]\n",
    "    #dt2 = pd.to_datetime(dt2, format='%Y-%m-%d')[0]\n",
    "    ddt1 = tdf[tdf.index < dt1].iloc[:,1].to_numpy()\n",
    "    ddt2 = tdf[tdf.index >= dt1].iloc[:9,1].to_numpy()\n",
    "    cdt1 = np.count_nonzero(ddt1 >= 0.9)\n",
    "    cdt2 = np.count_nonzero(ddt2 >= 0.9)\n",
    "    df_result_analysis = df_result_analysis.append({'MeterID': mid, 'Installation date': dt1,'Before Inst date': cdt1,'After Inst date': cdt2}, ignore_index = True)\n",
    "df_result_analysis.to_excel(\"Results/K=9_different threshold/K=9_Result analysis_0.9.xlsx\", index=False)"
   ]
  },
  {
   "cell_type": "code",
   "execution_count": 95,
   "metadata": {},
   "outputs": [],
   "source": [
    "df1 = pd.read_csv(\"Results/K=9_CP_Scores-2901.csv\")"
   ]
  },
  {
   "cell_type": "code",
   "execution_count": 147,
   "metadata": {},
   "outputs": [],
   "source": [
    "df2 = pd.read_csv(\"Results/K=13_CP_Scores-200.csv\")"
   ]
  },
  {
   "cell_type": "code",
   "execution_count": 148,
   "metadata": {},
   "outputs": [],
   "source": [
    "mids_200 = df2['MeterID'].unique()"
   ]
  },
  {
   "cell_type": "code",
   "execution_count": 149,
   "metadata": {},
   "outputs": [
    {
     "data": {
      "text/plain": [
       "200"
      ]
     },
     "execution_count": 149,
     "metadata": {},
     "output_type": "execute_result"
    }
   ],
   "source": [
    "len(mids_200)"
   ]
  },
  {
   "cell_type": "code",
   "execution_count": 150,
   "metadata": {},
   "outputs": [],
   "source": [
    "df_f1 = df1[~df1[\"MeterID\"].isin(mids_200)]"
   ]
  },
  {
   "cell_type": "code",
   "execution_count": 151,
   "metadata": {},
   "outputs": [
    {
     "data": {
      "text/html": [
       "<div>\n",
       "<style scoped>\n",
       "    .dataframe tbody tr th:only-of-type {\n",
       "        vertical-align: middle;\n",
       "    }\n",
       "\n",
       "    .dataframe tbody tr th {\n",
       "        vertical-align: top;\n",
       "    }\n",
       "\n",
       "    .dataframe thead th {\n",
       "        text-align: right;\n",
       "    }\n",
       "</style>\n",
       "<table border=\"1\" class=\"dataframe\">\n",
       "  <thead>\n",
       "    <tr style=\"text-align: right;\">\n",
       "      <th></th>\n",
       "      <th>Main date</th>\n",
       "      <th>Distance</th>\n",
       "      <th>Gaussian Score</th>\n",
       "      <th>MeterID</th>\n",
       "    </tr>\n",
       "  </thead>\n",
       "  <tbody>\n",
       "    <tr>\n",
       "      <th>0</th>\n",
       "      <td>2019-12-01</td>\n",
       "      <td>0.000000</td>\n",
       "      <td>0.000000</td>\n",
       "      <td>KOL-22812974</td>\n",
       "    </tr>\n",
       "    <tr>\n",
       "      <th>1</th>\n",
       "      <td>2019-12-02</td>\n",
       "      <td>1.905000</td>\n",
       "      <td>0.103570</td>\n",
       "      <td>KOL-22812974</td>\n",
       "    </tr>\n",
       "    <tr>\n",
       "      <th>2</th>\n",
       "      <td>2019-12-03</td>\n",
       "      <td>1.535250</td>\n",
       "      <td>0.000000</td>\n",
       "      <td>KOL-22812974</td>\n",
       "    </tr>\n",
       "    <tr>\n",
       "      <th>3</th>\n",
       "      <td>2019-12-04</td>\n",
       "      <td>1.752167</td>\n",
       "      <td>0.027129</td>\n",
       "      <td>KOL-22812974</td>\n",
       "    </tr>\n",
       "    <tr>\n",
       "      <th>4</th>\n",
       "      <td>2019-12-05</td>\n",
       "      <td>1.316875</td>\n",
       "      <td>0.000000</td>\n",
       "      <td>KOL-22812974</td>\n",
       "    </tr>\n",
       "    <tr>\n",
       "      <th>...</th>\n",
       "      <td>...</td>\n",
       "      <td>...</td>\n",
       "      <td>...</td>\n",
       "      <td>...</td>\n",
       "    </tr>\n",
       "    <tr>\n",
       "      <th>2259285</th>\n",
       "      <td>2020-12-27</td>\n",
       "      <td>12.073059</td>\n",
       "      <td>0.469770</td>\n",
       "      <td>KOL-23257526</td>\n",
       "    </tr>\n",
       "    <tr>\n",
       "      <th>2259286</th>\n",
       "      <td>2020-12-28</td>\n",
       "      <td>13.712711</td>\n",
       "      <td>0.631037</td>\n",
       "      <td>KOL-23257526</td>\n",
       "    </tr>\n",
       "    <tr>\n",
       "      <th>2259287</th>\n",
       "      <td>2020-12-29</td>\n",
       "      <td>13.044163</td>\n",
       "      <td>0.569314</td>\n",
       "      <td>KOL-23257526</td>\n",
       "    </tr>\n",
       "    <tr>\n",
       "      <th>2259288</th>\n",
       "      <td>2020-12-30</td>\n",
       "      <td>11.900719</td>\n",
       "      <td>0.450958</td>\n",
       "      <td>KOL-23257526</td>\n",
       "    </tr>\n",
       "    <tr>\n",
       "      <th>2259289</th>\n",
       "      <td>2020-12-31</td>\n",
       "      <td>10.944163</td>\n",
       "      <td>0.340958</td>\n",
       "      <td>KOL-23257526</td>\n",
       "    </tr>\n",
       "  </tbody>\n",
       "</table>\n",
       "<p>2104432 rows × 4 columns</p>\n",
       "</div>"
      ],
      "text/plain": [
       "          Main date   Distance  Gaussian Score       MeterID\n",
       "0        2019-12-01   0.000000        0.000000  KOL-22812974\n",
       "1        2019-12-02   1.905000        0.103570  KOL-22812974\n",
       "2        2019-12-03   1.535250        0.000000  KOL-22812974\n",
       "3        2019-12-04   1.752167        0.027129  KOL-22812974\n",
       "4        2019-12-05   1.316875        0.000000  KOL-22812974\n",
       "...             ...        ...             ...           ...\n",
       "2259285  2020-12-27  12.073059        0.469770  KOL-23257526\n",
       "2259286  2020-12-28  13.712711        0.631037  KOL-23257526\n",
       "2259287  2020-12-29  13.044163        0.569314  KOL-23257526\n",
       "2259288  2020-12-30  11.900719        0.450958  KOL-23257526\n",
       "2259289  2020-12-31  10.944163        0.340958  KOL-23257526\n",
       "\n",
       "[2104432 rows x 4 columns]"
      ]
     },
     "execution_count": 151,
     "metadata": {},
     "output_type": "execute_result"
    }
   ],
   "source": [
    "df_f1"
   ]
  },
  {
   "cell_type": "code",
   "execution_count": 152,
   "metadata": {},
   "outputs": [
    {
     "data": {
      "text/plain": [
       "Main date            397\n",
       "Distance          840296\n",
       "Gaussian Score    411628\n",
       "MeterID             2703\n",
       "dtype: int64"
      ]
     },
     "execution_count": 152,
     "metadata": {},
     "output_type": "execute_result"
    }
   ],
   "source": [
    "df_f1.nunique()"
   ]
  },
  {
   "cell_type": "code",
   "execution_count": 153,
   "metadata": {},
   "outputs": [],
   "source": [
    "fdf = df2.append(df_f1)"
   ]
  },
  {
   "cell_type": "code",
   "execution_count": 154,
   "metadata": {},
   "outputs": [
    {
     "data": {
      "text/plain": [
       "MeterID             2903\n",
       "Main date            397\n",
       "Distance          916411\n",
       "Gaussian Score    441081\n",
       "dtype: int64"
      ]
     },
     "execution_count": 154,
     "metadata": {},
     "output_type": "execute_result"
    }
   ],
   "source": [
    "fdf.nunique()"
   ]
  },
  {
   "cell_type": "code",
   "execution_count": 155,
   "metadata": {},
   "outputs": [],
   "source": [
    "fdf.to_csv(\"Results/K=13_CP_Scores-2901.csv\", index=False)"
   ]
  },
  {
   "cell_type": "code",
   "execution_count": null,
   "metadata": {},
   "outputs": [],
   "source": []
  }
 ],
 "metadata": {
  "kernelspec": {
   "display_name": "Python 3",
   "language": "python",
   "name": "python3"
  },
  "language_info": {
   "codemirror_mode": {
    "name": "ipython",
    "version": 3
   },
   "file_extension": ".py",
   "mimetype": "text/x-python",
   "name": "python",
   "nbconvert_exporter": "python",
   "pygments_lexer": "ipython3",
   "version": "3.7.2"
  }
 },
 "nbformat": 4,
 "nbformat_minor": 2
}
